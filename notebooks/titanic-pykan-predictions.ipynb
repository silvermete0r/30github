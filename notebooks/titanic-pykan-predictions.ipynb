{
 "cells": [
  {
   "cell_type": "code",
   "execution_count": 1,
   "id": "20b70e76",
   "metadata": {
    "execution": {
     "iopub.execute_input": "2025-02-07T18:33:16.425208Z",
     "iopub.status.busy": "2025-02-07T18:33:16.424862Z",
     "iopub.status.idle": "2025-02-07T18:33:22.200839Z",
     "shell.execute_reply": "2025-02-07T18:33:22.199783Z"
    },
    "papermill": {
     "duration": 5.785208,
     "end_time": "2025-02-07T18:33:22.202658",
     "exception": false,
     "start_time": "2025-02-07T18:33:16.417450",
     "status": "completed"
    },
    "tags": []
   },
   "outputs": [
    {
     "name": "stdout",
     "output_type": "stream",
     "text": [
      "\u001b[2K   \u001b[90m━━━━━━━━━━━━━━━━━━━━━━━━━━━━━━━━━━━━━━━━\u001b[0m \u001b[32m78.1/78.1 kB\u001b[0m \u001b[31m3.4 MB/s\u001b[0m eta \u001b[36m0:00:00\u001b[0m\r\n",
      "\u001b[?25h"
     ]
    }
   ],
   "source": [
    "!pip install -qU pykan"
   ]
  },
  {
   "cell_type": "code",
   "execution_count": 2,
   "id": "c0fa45d7",
   "metadata": {
    "execution": {
     "iopub.execute_input": "2025-02-07T18:33:22.211644Z",
     "iopub.status.busy": "2025-02-07T18:33:22.211224Z",
     "iopub.status.idle": "2025-02-07T18:33:22.215267Z",
     "shell.execute_reply": "2025-02-07T18:33:22.214496Z"
    },
    "papermill": {
     "duration": 0.010388,
     "end_time": "2025-02-07T18:33:22.216970",
     "exception": false,
     "start_time": "2025-02-07T18:33:22.206582",
     "status": "completed"
    },
    "tags": []
   },
   "outputs": [],
   "source": [
    "import warnings\n",
    "warnings.filterwarnings('ignore')"
   ]
  },
  {
   "cell_type": "code",
   "execution_count": 3,
   "id": "bb81d18c",
   "metadata": {
    "execution": {
     "iopub.execute_input": "2025-02-07T18:33:22.224728Z",
     "iopub.status.busy": "2025-02-07T18:33:22.224400Z",
     "iopub.status.idle": "2025-02-07T18:33:31.473876Z",
     "shell.execute_reply": "2025-02-07T18:33:31.472774Z"
    },
    "papermill": {
     "duration": 9.255483,
     "end_time": "2025-02-07T18:33:31.475853",
     "exception": false,
     "start_time": "2025-02-07T18:33:22.220370",
     "status": "completed"
    },
    "tags": []
   },
   "outputs": [],
   "source": [
    "import numpy as np\n",
    "import pandas as pd\n",
    "import torch\n",
    "import torch.nn as nn\n",
    "import torch.optim as optim\n",
    "import matplotlib.pyplot as plt\n",
    "from sklearn.preprocessing import LabelEncoder, StandardScaler\n",
    "from sklearn.model_selection import train_test_split\n",
    "from kan import *"
   ]
  },
  {
   "cell_type": "code",
   "execution_count": 4,
   "id": "6048e29d",
   "metadata": {
    "execution": {
     "iopub.execute_input": "2025-02-07T18:33:31.483971Z",
     "iopub.status.busy": "2025-02-07T18:33:31.483458Z",
     "iopub.status.idle": "2025-02-07T18:33:31.516933Z",
     "shell.execute_reply": "2025-02-07T18:33:31.515987Z"
    },
    "papermill": {
     "duration": 0.039331,
     "end_time": "2025-02-07T18:33:31.518784",
     "exception": false,
     "start_time": "2025-02-07T18:33:31.479453",
     "status": "completed"
    },
    "tags": []
   },
   "outputs": [],
   "source": [
    "# Load Data\n",
    "train = pd.read_csv('/kaggle/input/titanic/train.csv')\n",
    "test = pd.read_csv('/kaggle/input/titanic/test.csv')\n",
    "submit = pd.read_csv('/kaggle/input/titanic/gender_submission.csv')"
   ]
  },
  {
   "cell_type": "code",
   "execution_count": 5,
   "id": "a1d32b35",
   "metadata": {
    "execution": {
     "iopub.execute_input": "2025-02-07T18:33:31.526598Z",
     "iopub.status.busy": "2025-02-07T18:33:31.526253Z",
     "iopub.status.idle": "2025-02-07T18:33:31.553744Z",
     "shell.execute_reply": "2025-02-07T18:33:31.552813Z"
    },
    "papermill": {
     "duration": 0.033041,
     "end_time": "2025-02-07T18:33:31.555321",
     "exception": false,
     "start_time": "2025-02-07T18:33:31.522280",
     "status": "completed"
    },
    "tags": []
   },
   "outputs": [],
   "source": [
    "# Data Preprocessing\n",
    "def preprocess(df):\n",
    "    df = df[['Pclass', 'Sex', 'Age', 'SibSp', 'Parch', 'Fare', 'Embarked']]\n",
    "    df['Sex'] = LabelEncoder().fit_transform(df['Sex'])\n",
    "    df['Embarked'].fillna('S', inplace=True)\n",
    "    df['Embarked'] = LabelEncoder().fit_transform(df['Embarked'])\n",
    "    df['Age'].fillna(df['Age'].median(), inplace=True)\n",
    "    df['Fare'].fillna(df['Fare'].median(), inplace=True)\n",
    "    return df\n",
    "\n",
    "train_data = preprocess(train)\n",
    "test_data = preprocess(test)\n",
    "y = train['Survived'].values\n",
    "X_train, X_val, y_train, y_val = train_test_split(train_data, y, test_size=0.2, random_state=42)"
   ]
  },
  {
   "cell_type": "code",
   "execution_count": 6,
   "id": "3a92e8bd",
   "metadata": {
    "execution": {
     "iopub.execute_input": "2025-02-07T18:33:31.563323Z",
     "iopub.status.busy": "2025-02-07T18:33:31.562998Z",
     "iopub.status.idle": "2025-02-07T18:33:31.574724Z",
     "shell.execute_reply": "2025-02-07T18:33:31.573703Z"
    },
    "papermill": {
     "duration": 0.017302,
     "end_time": "2025-02-07T18:33:31.576281",
     "exception": false,
     "start_time": "2025-02-07T18:33:31.558979",
     "status": "completed"
    },
    "tags": []
   },
   "outputs": [],
   "source": [
    "# Normalize\n",
    "def normalize(X_train, X_val, test_data):\n",
    "    scaler = StandardScaler()\n",
    "    X_train = scaler.fit_transform(X_train)\n",
    "    X_val = scaler.transform(X_val)\n",
    "    test_data = scaler.transform(test_data)\n",
    "    return X_train, X_val, test_data\n",
    "\n",
    "X_train, X_val, test_data = normalize(X_train, X_val, test_data)"
   ]
  },
  {
   "cell_type": "code",
   "execution_count": 7,
   "id": "848dafcb",
   "metadata": {
    "execution": {
     "iopub.execute_input": "2025-02-07T18:33:31.584029Z",
     "iopub.status.busy": "2025-02-07T18:33:31.583716Z",
     "iopub.status.idle": "2025-02-07T18:33:31.769736Z",
     "shell.execute_reply": "2025-02-07T18:33:31.768475Z"
    },
    "papermill": {
     "duration": 0.191669,
     "end_time": "2025-02-07T18:33:31.771375",
     "exception": false,
     "start_time": "2025-02-07T18:33:31.579706",
     "status": "completed"
    },
    "tags": []
   },
   "outputs": [
    {
     "name": "stdout",
     "output_type": "stream",
     "text": [
      "checkpoint directory created: ./model\n",
      "saving model version 0.0\n"
     ]
    }
   ],
   "source": [
    "# Initialize KAN\n",
    "torch.set_default_dtype(torch.float64)\n",
    "device = torch.device('cuda' if torch.cuda.is_available() else 'cpu')\n",
    "model = KAN(width=[X_train.shape[1], 10, 5, 1], grid=3, k=3, seed=42, device=device)"
   ]
  },
  {
   "cell_type": "code",
   "execution_count": 8,
   "id": "54770512",
   "metadata": {
    "execution": {
     "iopub.execute_input": "2025-02-07T18:33:31.779385Z",
     "iopub.status.busy": "2025-02-07T18:33:31.779092Z",
     "iopub.status.idle": "2025-02-07T18:34:38.774830Z",
     "shell.execute_reply": "2025-02-07T18:34:38.773486Z"
    },
    "papermill": {
     "duration": 67.001601,
     "end_time": "2025-02-07T18:34:38.776518",
     "exception": false,
     "start_time": "2025-02-07T18:33:31.774917",
     "status": "completed"
    },
    "tags": []
   },
   "outputs": [
    {
     "name": "stderr",
     "output_type": "stream",
     "text": [
      "| train_loss: 2.69e-01 | test_loss: 4.62e-01 | reg: 1.76e+01 | : 100%|█| 100/100 [01:06<00:00,  1.49"
     ]
    },
    {
     "name": "stdout",
     "output_type": "stream",
     "text": [
      "saving model version 0.1\n"
     ]
    },
    {
     "name": "stderr",
     "output_type": "stream",
     "text": [
      "\n"
     ]
    },
    {
     "data": {
      "text/plain": [
       "{'train_loss': [array(0.36654475),\n",
       "  array(0.34554489),\n",
       "  array(0.34092191),\n",
       "  array(0.33484295),\n",
       "  array(0.33048714),\n",
       "  array(0.33051175),\n",
       "  array(0.32654944),\n",
       "  array(0.32166768),\n",
       "  array(0.31876927),\n",
       "  array(0.31666376),\n",
       "  array(0.32172062),\n",
       "  array(0.31783793),\n",
       "  array(0.31380476),\n",
       "  array(0.30935385),\n",
       "  array(0.30582717),\n",
       "  array(0.30845997),\n",
       "  array(0.30518208),\n",
       "  array(0.30222272),\n",
       "  array(0.29941233),\n",
       "  array(0.2976827),\n",
       "  array(0.30312512),\n",
       "  array(0.29987195),\n",
       "  array(0.29718957),\n",
       "  array(0.29473579),\n",
       "  array(0.29283834),\n",
       "  array(0.2946991),\n",
       "  array(0.29304019),\n",
       "  array(0.29172151),\n",
       "  array(0.29064279),\n",
       "  array(0.28960652),\n",
       "  array(0.29165197),\n",
       "  array(0.28958559),\n",
       "  array(0.28840803),\n",
       "  array(0.28768615),\n",
       "  array(0.28671279),\n",
       "  array(0.28875744),\n",
       "  array(0.28649695),\n",
       "  array(0.28574458),\n",
       "  array(0.28497605),\n",
       "  array(0.28442899),\n",
       "  array(0.2872793),\n",
       "  array(0.28527518),\n",
       "  array(0.28411542),\n",
       "  array(0.28361008),\n",
       "  array(0.28322373),\n",
       "  array(0.28488311),\n",
       "  array(0.28386739),\n",
       "  array(0.28332172),\n",
       "  array(0.28297958),\n",
       "  array(0.28279059),\n",
       "  array(0.2825681),\n",
       "  array(0.28234973),\n",
       "  array(0.28210785),\n",
       "  array(0.28181046),\n",
       "  array(0.28137476),\n",
       "  array(0.28088749),\n",
       "  array(0.28050525),\n",
       "  array(0.28002908),\n",
       "  array(0.27969047),\n",
       "  array(0.27940578),\n",
       "  array(0.27910059),\n",
       "  array(0.2785825),\n",
       "  array(0.27813618),\n",
       "  array(0.27786559),\n",
       "  array(0.27753395),\n",
       "  array(0.27717874),\n",
       "  array(0.27682662),\n",
       "  array(0.27644216),\n",
       "  array(0.27607579),\n",
       "  array(0.27573625),\n",
       "  array(0.27539611),\n",
       "  array(0.27522753),\n",
       "  array(0.27495366),\n",
       "  array(0.2746279),\n",
       "  array(0.27444779),\n",
       "  array(0.27408538),\n",
       "  array(0.27378668),\n",
       "  array(0.27350059),\n",
       "  array(0.27320125),\n",
       "  array(0.27295053),\n",
       "  array(0.27270388),\n",
       "  array(0.27243715),\n",
       "  array(0.2721823),\n",
       "  array(0.27208307),\n",
       "  array(0.27187918),\n",
       "  array(0.27161072),\n",
       "  array(0.271389),\n",
       "  array(0.27110838),\n",
       "  array(0.27082647),\n",
       "  array(0.2705542),\n",
       "  array(0.27037469),\n",
       "  array(0.27023295),\n",
       "  array(0.26997651),\n",
       "  array(0.26978849),\n",
       "  array(0.26959706),\n",
       "  array(0.26941532),\n",
       "  array(0.26921435),\n",
       "  array(0.26899317),\n",
       "  array(0.26880837),\n",
       "  array(0.26861514)],\n",
       " 'test_loss': [array(0.3794314),\n",
       "  array(0.36859571),\n",
       "  array(0.36935162),\n",
       "  array(0.36698056),\n",
       "  array(0.36545813),\n",
       "  array(0.36240224),\n",
       "  array(0.36500592),\n",
       "  array(0.37316219),\n",
       "  array(0.37195277),\n",
       "  array(0.36760655),\n",
       "  array(0.37602838),\n",
       "  array(0.37211994),\n",
       "  array(0.39304055),\n",
       "  array(0.39906763),\n",
       "  array(0.4090092),\n",
       "  array(0.41177573),\n",
       "  array(0.38729451),\n",
       "  array(0.3824233),\n",
       "  array(0.38088095),\n",
       "  array(0.39086386),\n",
       "  array(0.39748913),\n",
       "  array(0.39173773),\n",
       "  array(0.39863861),\n",
       "  array(0.39589757),\n",
       "  array(0.41003487),\n",
       "  array(0.40777787),\n",
       "  array(0.4070753),\n",
       "  array(0.42451163),\n",
       "  array(0.47185222),\n",
       "  array(0.49429651),\n",
       "  array(0.41895435),\n",
       "  array(0.41945385),\n",
       "  array(0.41270066),\n",
       "  array(0.41574339),\n",
       "  array(0.42338087),\n",
       "  array(0.42810367),\n",
       "  array(0.42010974),\n",
       "  array(0.41294281),\n",
       "  array(0.40663664),\n",
       "  array(0.40786365),\n",
       "  array(0.41656829),\n",
       "  array(0.40976235),\n",
       "  array(0.40679427),\n",
       "  array(0.41409439),\n",
       "  array(0.41909812),\n",
       "  array(0.41034523),\n",
       "  array(0.41105281),\n",
       "  array(0.41949567),\n",
       "  array(0.42156475),\n",
       "  array(0.41804668),\n",
       "  array(0.41667087),\n",
       "  array(0.41394323),\n",
       "  array(0.41539078),\n",
       "  array(0.41279592),\n",
       "  array(0.42132811),\n",
       "  array(0.42284626),\n",
       "  array(0.42013694),\n",
       "  array(0.41616219),\n",
       "  array(0.41115379),\n",
       "  array(0.40749495),\n",
       "  array(0.40535301),\n",
       "  array(0.40053121),\n",
       "  array(0.4039522),\n",
       "  array(0.40152627),\n",
       "  array(0.40433808),\n",
       "  array(0.40811989),\n",
       "  array(0.42177417),\n",
       "  array(0.43552446),\n",
       "  array(0.45996637),\n",
       "  array(0.50814898),\n",
       "  array(0.51007298),\n",
       "  array(0.46930486),\n",
       "  array(0.46245709),\n",
       "  array(0.45698806),\n",
       "  array(0.43859362),\n",
       "  array(0.45675603),\n",
       "  array(0.47168663),\n",
       "  array(0.45540118),\n",
       "  array(0.46241765),\n",
       "  array(0.46205606),\n",
       "  array(0.47071868),\n",
       "  array(0.48285323),\n",
       "  array(0.4889076),\n",
       "  array(0.48783523),\n",
       "  array(0.49388691),\n",
       "  array(0.52059245),\n",
       "  array(0.51133004),\n",
       "  array(0.51644958),\n",
       "  array(0.49279007),\n",
       "  array(0.47939046),\n",
       "  array(0.48077757),\n",
       "  array(0.47031815),\n",
       "  array(0.46909519),\n",
       "  array(0.46598184),\n",
       "  array(0.45434479),\n",
       "  array(0.4534737),\n",
       "  array(0.45203647),\n",
       "  array(0.46286214),\n",
       "  array(0.46216288),\n",
       "  array(0.46231333)],\n",
       " 'reg': [array(24.55627007),\n",
       "  array(19.93349185),\n",
       "  array(17.24335043),\n",
       "  array(16.0640823),\n",
       "  array(15.17423008),\n",
       "  array(14.67074306),\n",
       "  array(14.20627145),\n",
       "  array(14.11184563),\n",
       "  array(13.96377547),\n",
       "  array(13.61337774),\n",
       "  array(13.48064005),\n",
       "  array(13.77071476),\n",
       "  array(14.17243016),\n",
       "  array(14.52783689),\n",
       "  array(14.83443582),\n",
       "  array(14.82094347),\n",
       "  array(15.14014128),\n",
       "  array(15.54009735),\n",
       "  array(15.64130953),\n",
       "  array(15.50183383),\n",
       "  array(15.27635311),\n",
       "  array(15.51642887),\n",
       "  array(15.75595274),\n",
       "  array(15.99890121),\n",
       "  array(16.13680486),\n",
       "  array(16.12979456),\n",
       "  array(16.1422645),\n",
       "  array(16.06997931),\n",
       "  array(16.08220038),\n",
       "  array(16.08556232),\n",
       "  array(16.03875324),\n",
       "  array(16.22633348),\n",
       "  array(16.41459867),\n",
       "  array(16.29898368),\n",
       "  array(16.26866233),\n",
       "  array(16.25245319),\n",
       "  array(16.4618141),\n",
       "  array(16.49998534),\n",
       "  array(16.58207449),\n",
       "  array(16.60679624),\n",
       "  array(16.50775319),\n",
       "  array(16.63860917),\n",
       "  array(16.74924652),\n",
       "  array(16.76735451),\n",
       "  array(16.77956224),\n",
       "  array(16.75223116),\n",
       "  array(16.73753934),\n",
       "  array(16.72885773),\n",
       "  array(16.72726003),\n",
       "  array(16.70516932),\n",
       "  array(16.71976072),\n",
       "  array(16.70745623),\n",
       "  array(16.72036256),\n",
       "  array(16.76507646),\n",
       "  array(16.83169279),\n",
       "  array(16.9423065),\n",
       "  array(16.97174088),\n",
       "  array(17.00815971),\n",
       "  array(17.03176373),\n",
       "  array(17.05418201),\n",
       "  array(17.08749396),\n",
       "  array(17.16019571),\n",
       "  array(17.18372739),\n",
       "  array(17.1877014),\n",
       "  array(17.22482906),\n",
       "  array(17.23627756),\n",
       "  array(17.27537959),\n",
       "  array(17.30357304),\n",
       "  array(17.3519801),\n",
       "  array(17.37581253),\n",
       "  array(17.39584565),\n",
       "  array(17.34400763),\n",
       "  array(17.30455383),\n",
       "  array(17.28872034),\n",
       "  array(17.25715883),\n",
       "  array(17.27572605),\n",
       "  array(17.2798081),\n",
       "  array(17.30713508),\n",
       "  array(17.355069),\n",
       "  array(17.35887561),\n",
       "  array(17.37526763),\n",
       "  array(17.40843202),\n",
       "  array(17.45360507),\n",
       "  array(17.43285876),\n",
       "  array(17.44326003),\n",
       "  array(17.49809073),\n",
       "  array(17.50616572),\n",
       "  array(17.55289557),\n",
       "  array(17.54752276),\n",
       "  array(17.56532634),\n",
       "  array(17.54147308),\n",
       "  array(17.52639922),\n",
       "  array(17.53903481),\n",
       "  array(17.53406542),\n",
       "  array(17.53753161),\n",
       "  array(17.53638141),\n",
       "  array(17.53223766),\n",
       "  array(17.55020638),\n",
       "  array(17.54839735),\n",
       "  array(17.56877071)]}"
      ]
     },
     "execution_count": 8,
     "metadata": {},
     "output_type": "execute_result"
    }
   ],
   "source": [
    "# Training the Model\n",
    "model.fit({'train_input': torch.tensor(X_train, dtype=torch.float64, device=device),\n",
    "           'train_label': torch.tensor(y_train, dtype=torch.float64, device=device).view(-1, 1),\n",
    "           'test_input': torch.tensor(X_val, dtype=torch.float64, device=device),\n",
    "           'test_label': torch.tensor(y_val, dtype=torch.float64, device=device).view(-1, 1)},\n",
    "          opt=\"LBFGS\", steps=100, lamb=0.001)"
   ]
  },
  {
   "cell_type": "code",
   "execution_count": 9,
   "id": "1389edcf",
   "metadata": {
    "execution": {
     "iopub.execute_input": "2025-02-07T18:34:38.807684Z",
     "iopub.status.busy": "2025-02-07T18:34:38.807266Z",
     "iopub.status.idle": "2025-02-07T18:36:37.792325Z",
     "shell.execute_reply": "2025-02-07T18:36:37.791157Z"
    },
    "papermill": {
     "duration": 119.002417,
     "end_time": "2025-02-07T18:36:37.794278",
     "exception": false,
     "start_time": "2025-02-07T18:34:38.791861",
     "status": "completed"
    },
    "tags": []
   },
   "outputs": [
    {
     "name": "stdout",
     "output_type": "stream",
     "text": [
      "fixing (0,0,0) with x^2, r2=0.9999999624050644, c=2\n",
      "fixing (0,0,1) with x^2, r2=0.9999999134546288, c=2\n",
      "fixing (0,0,2) with x^2, r2=0.9999999900344441, c=2\n",
      "fixing (0,0,3) with x^2, r2=0.9999997760795909, c=2\n",
      "fixing (0,0,4) with x^2, r2=0.9999999990073805, c=2\n",
      "fixing (0,0,5) with x^2, r2=0.99999999772926, c=2\n",
      "fixing (0,0,6) with x^2, r2=0.9999999927730091, c=2\n",
      "fixing (0,0,7) with x^2, r2=0.9999999999816064, c=2\n",
      "fixing (0,0,8) with x^2, r2=0.9999999999937494, c=2\n",
      "fixing (0,0,9) with exp, r2=0.9999999999996605, c=2\n",
      "fixing (0,1,0) with x, r2=0.999999534580829, c=1\n",
      "fixing (0,1,1) with x, r2=0.9999424721057477, c=1\n",
      "fixing (0,1,2) with x, r2=0.999997876639326, c=1\n",
      "fixing (0,1,3) with x, r2=0.9999903085153847, c=1\n",
      "fixing (0,1,4) with x, r2=0.999998607302843, c=1\n",
      "fixing (0,1,5) with x, r2=0.9999999957805508, c=1\n",
      "fixing (0,1,6) with x, r2=0.9999991041610372, c=1\n",
      "fixing (0,1,7) with x, r2=0.9999999983573044, c=1\n",
      "fixing (0,1,8) with x, r2=0.9999999793031519, c=1\n",
      "fixing (0,1,9) with x, r2=0.9999999985254439, c=1\n",
      "fixing (0,2,0) with x, r2=0.0990557758265547, c=1\n",
      "fixing (0,2,1) with x, r2=0.9798999433842221, c=1\n",
      "fixing (0,2,2) with sin, r2=0.9985316673242023, c=2\n",
      "fixing (0,2,3) with sin, r2=0.9786203970913967, c=2\n",
      "fixing (0,2,4) with x, r2=0.7978261129063905, c=1\n",
      "fixing (0,2,5) with x, r2=0.6284593886566167, c=1\n",
      "fixing (0,2,6) with sin, r2=0.9912942184389516, c=2\n",
      "fixing (0,2,7) with x, r2=0.6503728740629748, c=1\n",
      "fixing (0,2,8) with x^2, r2=0.9975732924248515, c=2\n",
      "fixing (0,2,9) with x, r2=0.3177987692449454, c=1\n",
      "fixing (0,3,0) with x^2, r2=0.999270554031343, c=2\n",
      "fixing (0,3,1) with sin, r2=0.9998080029617227, c=2\n",
      "fixing (0,3,2) with sin, r2=0.9979888352819183, c=2\n",
      "fixing (0,3,3) with x^2, r2=0.9999153377491746, c=2\n",
      "fixing (0,3,4) with sin, r2=0.9999795555821822, c=2\n",
      "fixing (0,3,5) with x^2, r2=0.9967069074189933, c=2\n",
      "fixing (0,3,6) with x^2, r2=0.9996167756410442, c=2\n",
      "fixing (0,3,7) with sin, r2=0.9999882965080811, c=2\n",
      "fixing (0,3,8) with sin, r2=0.9999752984296825, c=2\n",
      "fixing (0,3,9) with x^2, r2=0.9996158962278221, c=2\n",
      "fixing (0,4,0) with sin, r2=0.9984224349586065, c=2\n",
      "fixing (0,4,1) with sin, r2=0.9996332085987737, c=2\n",
      "fixing (0,4,2) with x^2, r2=0.9975791935976441, c=2\n",
      "fixing (0,4,3) with x^2, r2=0.9997683898999089, c=2\n",
      "fixing (0,4,4) with sin, r2=0.9995907440976747, c=2\n",
      "fixing (0,4,5) with x, r2=0.9981736396547556, c=1\n",
      "fixing (0,4,6) with x, r2=0.8951783310726491, c=1\n",
      "fixing (0,4,7) with sin, r2=0.99969498755933, c=2\n",
      "fixing (0,4,8) with sin, r2=0.9925250371564297, c=2\n",
      "fixing (0,4,9) with sin, r2=0.9986473003194267, c=2\n",
      "fixing (0,5,0) with x, r2=0.9606436112821588, c=1\n",
      "fixing (0,5,1) with x, r2=0.7441815391603175, c=1\n",
      "fixing (0,5,2) with x, r2=0.3369896747158447, c=1\n",
      "fixing (0,5,3) with x, r2=0.04928821207761116, c=1\n",
      "fixing (0,5,4) with log, r2=0.9944602239989082, c=2\n",
      "fixing (0,5,5) with x, r2=0.27967062794559105, c=1\n",
      "fixing (0,5,6) with x, r2=0.3371897469207304, c=1\n",
      "fixing (0,5,7) with x, r2=0.9800397573463834, c=1\n",
      "fixing (0,5,8) with x, r2=0.9747798208882147, c=1\n",
      "fixing (0,5,9) with x, r2=0.24619641302595682, c=1\n",
      "fixing (0,6,0) with x^2, r2=0.9999999997469069, c=2\n",
      "fixing (0,6,1) with x^2, r2=0.9999999985736951, c=2\n",
      "fixing (0,6,2) with x^2, r2=0.9999999991828464, c=2\n",
      "fixing (0,6,3) with x^2, r2=0.9999999917482885, c=2\n",
      "fixing (0,6,4) with x^2, r2=0.9999999996505711, c=2\n",
      "fixing (0,6,5) with x^2, r2=0.9999999975971205, c=2\n",
      "fixing (0,6,6) with x^2, r2=0.9999999825702971, c=2\n",
      "fixing (0,6,7) with x^2, r2=0.999999999879623, c=2\n",
      "fixing (0,6,8) with x^2, r2=0.9999999251333596, c=2\n",
      "fixing (0,6,9) with x^2, r2=0.999999997788606, c=2\n",
      "fixing (1,0,0) with x, r2=0.017095089401950807, c=1\n",
      "fixing (1,0,1) with x, r2=0.04017722851179867, c=1\n",
      "fixing (1,0,2) with x, r2=0.004082738259655533, c=1\n",
      "fixing (1,0,3) with x, r2=0.029837242217633578, c=1\n",
      "fixing (1,0,4) with x, r2=0.24103284856309085, c=1\n",
      "fixing (1,1,0) with x, r2=0.000844072296736273, c=1\n",
      "fixing (1,1,1) with x, r2=0.020422143768671245, c=1\n",
      "fixing (1,1,2) with x, r2=0.10904780627788054, c=1\n",
      "fixing (1,1,3) with x, r2=0.00021310685505430215, c=1\n",
      "fixing (1,1,4) with x, r2=0.09936002429140693, c=1\n",
      "fixing (1,2,0) with x, r2=0.0003210109006774456, c=1\n",
      "fixing (1,2,1) with x, r2=0.09100639533854678, c=1\n",
      "fixing (1,2,2) with x, r2=0.00041477498120251954, c=1\n",
      "fixing (1,2,3) with x, r2=0.015583823097701777, c=1\n",
      "fixing (1,2,4) with x, r2=0.6682473515755941, c=1\n",
      "fixing (1,3,0) with x, r2=0.00936536563913294, c=1\n",
      "fixing (1,3,1) with x, r2=0.020740697741774457, c=1\n",
      "fixing (1,3,2) with x, r2=0.017294351522642647, c=1\n",
      "fixing (1,3,3) with x, r2=0.004543387262266161, c=1\n",
      "fixing (1,3,4) with x, r2=0.010456905591076007, c=1\n",
      "fixing (1,4,0) with x, r2=0.1333724181029414, c=1\n",
      "fixing (1,4,1) with x, r2=0.7389516241593981, c=1\n",
      "fixing (1,4,2) with x, r2=0.07026153583643509, c=1\n",
      "fixing (1,4,3) with x, r2=0.00015553295206730862, c=1\n",
      "fixing (1,4,4) with sin, r2=0.9908916267124422, c=2\n",
      "fixing (1,5,0) with x, r2=7.437817121083719e-05, c=1\n",
      "fixing (1,5,1) with x, r2=0.1281490345960272, c=1\n",
      "fixing (1,5,2) with x, r2=0.015310723491638853, c=1\n",
      "fixing (1,5,3) with x, r2=9.151860196149772e-05, c=1\n",
      "fixing (1,5,4) with x, r2=9.604624440575187e-07, c=1\n",
      "fixing (1,6,0) with x, r2=0.008876858045386458, c=1\n",
      "fixing (1,6,1) with x, r2=0.09801866468147648, c=1\n",
      "fixing (1,6,2) with x, r2=0.0012773976771645423, c=1\n",
      "fixing (1,6,3) with x, r2=0.0006661289112666464, c=1\n",
      "fixing (1,6,4) with x, r2=0.049063862004823384, c=1\n",
      "fixing (1,7,0) with x, r2=0.01688075108667426, c=1\n",
      "fixing (1,7,1) with x, r2=0.5223335653260753, c=1\n",
      "fixing (1,7,2) with x, r2=0.07149849899476682, c=1\n",
      "fixing (1,7,3) with x, r2=0.09470746025644826, c=1\n",
      "fixing (1,7,4) with x, r2=0.8137779055252811, c=1\n",
      "fixing (1,8,0) with x, r2=0.26071385533644875, c=1\n",
      "fixing (1,8,1) with x, r2=0.32188625529124565, c=1\n",
      "fixing (1,8,2) with x, r2=0.08874134373334498, c=1\n",
      "fixing (1,8,3) with x, r2=0.14743350021620058, c=1\n",
      "fixing (1,8,4) with x, r2=0.3573105961504301, c=1\n",
      "fixing (1,9,0) with x, r2=0.38860667225543205, c=1\n",
      "fixing (1,9,1) with sin, r2=0.9996997022177778, c=2\n",
      "fixing (1,9,2) with x, r2=0.011712451897521497, c=1\n",
      "fixing (1,9,3) with x, r2=0.0023092450292984206, c=1\n",
      "fixing (1,9,4) with x, r2=0.626127610295012, c=1\n",
      "fixing (2,0,0) with x, r2=0.21638390226087081, c=1\n",
      "fixing (2,1,0) with x, r2=0.6054449432323153, c=1\n",
      "fixing (2,2,0) with log, r2=0.9817022266566958, c=2\n",
      "fixing (2,3,0) with x, r2=3.514444509740698e-05, c=1\n",
      "fixing (2,4,0) with x, r2=0.025847911966499167, c=1\n",
      "saving model version 0.2\n"
     ]
    }
   ],
   "source": [
    "# Extract Symbolic Formula\n",
    "lib = ['x','x^2','x^3','x^4','exp','log','sqrt','tanh','sin','abs']\n",
    "model.auto_symbolic(lib=lib)"
   ]
  },
  {
   "cell_type": "code",
   "execution_count": 10,
   "id": "41b3618f",
   "metadata": {
    "execution": {
     "iopub.execute_input": "2025-02-07T18:36:37.837179Z",
     "iopub.status.busy": "2025-02-07T18:36:37.836849Z",
     "iopub.status.idle": "2025-02-07T18:36:44.911042Z",
     "shell.execute_reply": "2025-02-07T18:36:44.909855Z"
    },
    "papermill": {
     "duration": 7.097318,
     "end_time": "2025-02-07T18:36:44.912779",
     "exception": false,
     "start_time": "2025-02-07T18:36:37.815461",
     "status": "completed"
    },
    "tags": []
   },
   "outputs": [
    {
     "name": "stdout",
     "output_type": "stream",
     "text": [
      "Final Model Formula: -0.0304*x_2 - 0.0739*x_3 + 0.0036*x_5 + 0.0157*x_6 + 0.007*(0.4863 - x_1)**2 + 0.0119*(1 - 0.3236*x_1)**2 - 0.001*(1 - 0.8818*x_4)**2 - 0.e-4*(1 - 0.7445*x_4)**2 - 0.0006*(1 - 0.6484*x_4)**2 - 0.0041*(1 - 0.6*x_4)**2 - 0.0094*(1 - 0.4629*x_4)**2 + 0.0016*(1 - 0.4163*x_5)**2 + 0.0291*(1 - 0.3073*x_5)**2 - 0.0015*(-x_1 - 0.8269)**2 + 0.0398*(-x_1 - 0.8036)**2 + 0.0112*(-x_1 - 0.4769)**2 + 0.0042*(-x_1 - 0.1884)**2 - 0.0013*(-x_1 - 0.0341)**2 - 0.1251*(-0.4087*x_1 - 1)**2 - 0.0341*(-0.0761*x_1 - 1)**2 + 0.0052*(-0.7631*x_3 - 1)**2 - 0.0086*(-x_7 - 0.8502)**2 + 0.0002*(-x_7 - 0.7302)**2 + 0.0015*(-x_7 - 0.5803)**2 + 0.0016*(-x_7 - 0.5716)**2 - 0.0305*(-x_7 - 0.5203)**2 + 0.0074*(-x_7 - 0.3682)**2 + 0.0194*(-0.8003*x_7 - 1)**2 - 0.0083*(-0.503*x_7 - 1)**2 + 0.0406*(-0.4772*x_7 - 1)**2 - 0.0597*(-0.4662*x_7 - 1)**2 + 0.0436*log(5.4134*x_6 + 6.0215) + 0.0011*log(-0.0006*x_2 - 0.001*x_3 - 0.e-4*(1 - 0.6*x_4)**2 - 0.0004*(1 - 0.4629*x_4)**2 + 0.0001*(1 - 0.4163*x_5)**2 + 0.0006*(-x_1 - 0.8036)**2 + 0.0001*(-x_1 - 0.1884)**2 - 0.e-4*(-x_1 - 0.0341)**2 - 0.0004*(-0.4087*x_1 - 1)**2 - 0.0029*(-0.0761*x_1 - 1)**2 - 0.0004*(-x_7 - 0.8502)**2 + 0.0003*(-0.8003*x_7 - 1)**2 - 0.0007*(-0.503*x_7 - 1)**2 + 0.0006*(-0.4772*x_7 - 1)**2 - 0.0001*(-0.4662*x_7 - 1)**2 + 0.0001*log(5.4134*x_6 + 6.0215) - 0.0004*sin(0.8586*x_3 - 4.6015) + 0.0001*sin(0.9916*x_3 - 3.8042) - 0.0003*sin(6.824*x_4 - 1.4) + 0.0016*sin(7.8511*x_4 + 6.5203) - 0.0005*sin(7.8746*x_4 + 2.4272) - 0.0028*sin(7.8854*x_4 + 5.6091) - 0.0003*sin(4.607*x_5 - 5.8158) + 0.0005*sin(5.4594*x_5 - 8.8342) - 0.0029*sin(9.597*x_5 - 6.8059) - 0.0042*sin(9.6012*x_5 - 6.7875) + 0.0801) - 0.0509*sin(0.6849*x_3 + 2.0401) - 0.0096*sin(0.8586*x_3 - 4.6015) + 0.0028*sin(0.9916*x_3 - 3.8042) - 0.1041*sin(6.824*x_4 - 1.4) + 0.0194*sin(7.8511*x_4 + 6.5203) - 0.2517*sin(7.8746*x_4 + 2.4272) - 0.1921*sin(7.8854*x_4 + 5.6091) - 0.0071*sin(8.4871*x_4 + 0.9301) - 0.1786*sin(4.607*x_5 - 5.8158) + 0.0001*sin(5.4041*x_5 + 0.7854) + 0.0023*sin(5.4455*x_5 + 3.9726) + 0.0347*sin(5.4594*x_5 - 8.8342) - 0.0343*sin(9.597*x_5 - 6.8059) - 0.2842*sin(9.6012*x_5 - 6.7875) - 0.0019*sin(0.0189*x_2 + 0.0981*x_3 - 0.0356*(0.4863 - x_1)**2 + 0.3018*(-0.4662*x_7 - 1)**2 - 0.2206*log(5.4134*x_6 + 6.0215) + 1.2724*sin(7.8746*x_4 + 2.4272) + 0.9028*sin(4.607*x_5 - 5.8158) + 5.4811) - 0.4341*sin(0.974*x_2 + 0.1121*x_3 + 0.0404*x_6 + 0.2291*(1 - 0.7445*x_4)**2 - 0.6101*(-x_7 - 0.7302)**2 - 0.3031*sin(5.4041*x_5 + 0.7854) + 0.0099 - 0.0017*exp(-3.0434*x_1)) + 0.5188\n"
     ]
    }
   ],
   "source": [
    "# Output Final Symbolic Formula\n",
    "from kan.utils import ex_round\n",
    "final_formula = ex_round(model.symbolic_formula()[0][0], 4)\n",
    "print(\"Final Model Formula:\", final_formula)"
   ]
  },
  {
   "cell_type": "code",
   "execution_count": 11,
   "id": "139dabe9",
   "metadata": {
    "execution": {
     "iopub.execute_input": "2025-02-07T18:36:44.955364Z",
     "iopub.status.busy": "2025-02-07T18:36:44.955017Z",
     "iopub.status.idle": "2025-02-07T18:37:05.162028Z",
     "shell.execute_reply": "2025-02-07T18:37:05.160992Z"
    },
    "papermill": {
     "duration": 20.230562,
     "end_time": "2025-02-07T18:37:05.164085",
     "exception": false,
     "start_time": "2025-02-07T18:36:44.933523",
     "status": "completed"
    },
    "tags": []
   },
   "outputs": [
    {
     "data": {
      "image/png": "[encoded data removed]",
      "text/plain": [
       "<Figure size 500x600 with 142 Axes>"
      ]
     },
     "metadata": {},
     "output_type": "display_data"
    }
   ],
   "source": [
    "# Visualize KAN\n",
    "model.plot(beta=100)"
   ]
  },
  {
   "cell_type": "code",
   "execution_count": 12,
   "id": "58634e91",
   "metadata": {
    "execution": {
     "iopub.execute_input": "2025-02-07T18:37:05.210861Z",
     "iopub.status.busy": "2025-02-07T18:37:05.210437Z",
     "iopub.status.idle": "2025-02-07T18:37:05.244416Z",
     "shell.execute_reply": "2025-02-07T18:37:05.243465Z"
    },
    "papermill": {
     "duration": 0.059318,
     "end_time": "2025-02-07T18:37:05.246340",
     "exception": false,
     "start_time": "2025-02-07T18:37:05.187022",
     "status": "completed"
    },
    "tags": []
   },
   "outputs": [],
   "source": [
    "# Predictions\n",
    "test_preds = model(torch.tensor(test_data, dtype=torch.float64, device=device)).cpu().detach().numpy()\n",
    "test_preds = (test_preds > 0.5).astype(int)"
   ]
  },
  {
   "cell_type": "code",
   "execution_count": 13,
   "id": "e8535694",
   "metadata": {
    "execution": {
     "iopub.execute_input": "2025-02-07T18:37:05.294276Z",
     "iopub.status.busy": "2025-02-07T18:37:05.293915Z",
     "iopub.status.idle": "2025-02-07T18:37:05.305681Z",
     "shell.execute_reply": "2025-02-07T18:37:05.304725Z"
    },
    "papermill": {
     "duration": 0.037979,
     "end_time": "2025-02-07T18:37:05.307490",
     "exception": false,
     "start_time": "2025-02-07T18:37:05.269511",
     "status": "completed"
    },
    "tags": []
   },
   "outputs": [],
   "source": [
    "# Submission\n",
    "submission = pd.DataFrame({'PassengerId': submit['PassengerId'], 'Survived': test_preds.ravel()})\n",
    "submission.to_csv('kan_submission.csv', index=False)"
   ]
  }
 ],
 "metadata": {
  "kaggle": {
   "accelerator": "none",
   "dataSources": [
    {
     "databundleVersionId": 26502,
     "sourceId": 3136,
     "sourceType": "competition"
    }
   ],
   "dockerImageVersionId": 30839,
   "isGpuEnabled": false,
   "isInternetEnabled": true,
   "language": "python",
   "sourceType": "notebook"
  },
  "kernelspec": {
   "display_name": "Python 3",
   "language": "python",
   "name": "python3"
  },
  "language_info": {
   "codemirror_mode": {
    "name": "ipython",
    "version": 3
   },
   "file_extension": ".py",
   "mimetype": "text/x-python",
   "name": "python",
   "nbconvert_exporter": "python",
   "pygments_lexer": "ipython3",
   "version": "3.10.12"
  },
  "papermill": {
   "default_parameters": {},
   "duration": 234.813801,
   "end_time": "2025-02-07T18:37:08.440317",
   "environment_variables": {},
   "exception": null,
   "input_path": "__notebook__.ipynb",
   "output_path": "__notebook__.ipynb",
   "parameters": {},
   "start_time": "2025-02-07T18:33:13.626516",
   "version": "2.6.0"
  }
 },
 "nbformat": 4,
 "nbformat_minor": 5
}
