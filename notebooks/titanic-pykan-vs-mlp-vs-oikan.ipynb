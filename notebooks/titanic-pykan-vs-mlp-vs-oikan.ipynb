{
 "cells": [
  {
   "cell_type": "code",
   "execution_count": 1,
   "id": "8de085f8",
   "metadata": {
    "execution": {
     "iopub.execute_input": "2025-02-12T20:21:23.896446Z",
     "iopub.status.busy": "2025-02-12T20:21:23.896154Z",
     "iopub.status.idle": "2025-02-12T20:21:23.901605Z",
     "shell.execute_reply": "2025-02-12T20:21:23.900745Z"
    },
    "papermill": {
     "duration": 0.011779,
     "end_time": "2025-02-12T20:21:23.902917",
     "exception": false,
     "start_time": "2025-02-12T20:21:23.891138",
     "status": "completed"
    },
    "tags": []
   },
   "outputs": [],
   "source": [
    "import warnings\n",
    "warnings.filterwarnings('ignore')"
   ]
  },
  {
   "cell_type": "code",
   "execution_count": 2,
   "id": "e44f8dfc",
   "metadata": {
    "execution": {
     "iopub.execute_input": "2025-02-12T20:21:23.910682Z",
     "iopub.status.busy": "2025-02-12T20:21:23.910440Z",
     "iopub.status.idle": "2025-02-12T20:21:30.414221Z",
     "shell.execute_reply": "2025-02-12T20:21:30.413498Z"
    },
    "papermill": {
     "duration": 6.50918,
     "end_time": "2025-02-12T20:21:30.415727",
     "exception": false,
     "start_time": "2025-02-12T20:21:23.906547",
     "status": "completed"
    },
    "tags": []
   },
   "outputs": [],
   "source": [
    "import numpy as np\n",
    "import pandas as pd\n",
    "import torch\n",
    "import torch.nn as nn\n",
    "import torch.optim as optim\n",
    "import matplotlib.pyplot as plt\n",
    "from sklearn.preprocessing import LabelEncoder, StandardScaler\n",
    "from sklearn.model_selection import train_test_split"
   ]
  },
  {
   "cell_type": "code",
   "execution_count": 3,
   "id": "4c8fa9a0",
   "metadata": {
    "execution": {
     "iopub.execute_input": "2025-02-12T20:21:30.422857Z",
     "iopub.status.busy": "2025-02-12T20:21:30.422484Z",
     "iopub.status.idle": "2025-02-12T20:21:30.455488Z",
     "shell.execute_reply": "2025-02-12T20:21:30.454908Z"
    },
    "papermill": {
     "duration": 0.03759,
     "end_time": "2025-02-12T20:21:30.456607",
     "exception": false,
     "start_time": "2025-02-12T20:21:30.419017",
     "status": "completed"
    },
    "tags": []
   },
   "outputs": [],
   "source": [
    "# Load Data\n",
    "train = pd.read_csv('/kaggle/input/titanic/train.csv')\n",
    "test = pd.read_csv('/kaggle/input/titanic/test.csv')\n",
    "submit = pd.read_csv('/kaggle/input/titanic/gender_submission.csv')"
   ]
  },
  {
   "cell_type": "code",
   "execution_count": 4,
   "id": "83f74ac8",
   "metadata": {
    "execution": {
     "iopub.execute_input": "2025-02-12T20:21:30.463362Z",
     "iopub.status.busy": "2025-02-12T20:21:30.463153Z",
     "iopub.status.idle": "2025-02-12T20:21:30.498492Z",
     "shell.execute_reply": "2025-02-12T20:21:30.497914Z"
    },
    "papermill": {
     "duration": 0.039694,
     "end_time": "2025-02-12T20:21:30.499556",
     "exception": false,
     "start_time": "2025-02-12T20:21:30.459862",
     "status": "completed"
    },
    "tags": []
   },
   "outputs": [],
   "source": [
    "# Data Preprocessing\n",
    "def preprocess(df):\n",
    "    df = df[['Pclass', 'Sex', 'Age', 'SibSp', 'Parch', 'Fare', 'Embarked']]\n",
    "    df['Sex'] = LabelEncoder().fit_transform(df['Sex'])\n",
    "    df['Embarked'].fillna('S', inplace=True)\n",
    "    df['Embarked'] = LabelEncoder().fit_transform(df['Embarked'])\n",
    "    df['Age'].fillna(df['Age'].median(), inplace=True)\n",
    "    df['Fare'].fillna(df['Fare'].median(), inplace=True)\n",
    "    return df\n",
    "\n",
    "train_data = preprocess(train)\n",
    "test_data = preprocess(test)\n",
    "y = train['Survived'].values\n",
    "X_train, X_val, y_train, y_val = train_test_split(train_data, y, test_size=0.2, random_state=42)"
   ]
  },
  {
   "cell_type": "code",
   "execution_count": 5,
   "id": "38ccd244",
   "metadata": {
    "execution": {
     "iopub.execute_input": "2025-02-12T20:21:30.506173Z",
     "iopub.status.busy": "2025-02-12T20:21:30.505969Z",
     "iopub.status.idle": "2025-02-12T20:21:30.514359Z",
     "shell.execute_reply": "2025-02-12T20:21:30.513793Z"
    },
    "papermill": {
     "duration": 0.013035,
     "end_time": "2025-02-12T20:21:30.515623",
     "exception": false,
     "start_time": "2025-02-12T20:21:30.502588",
     "status": "completed"
    },
    "tags": []
   },
   "outputs": [],
   "source": [
    "# Normalize\n",
    "def normalize(X_train, X_val, test_data):\n",
    "    scaler = StandardScaler()\n",
    "    X_train = scaler.fit_transform(X_train)\n",
    "    X_val = scaler.transform(X_val)\n",
    "    test_data = scaler.transform(test_data)\n",
    "    return X_train, X_val, test_data\n",
    "\n",
    "X_train, X_val, test_data = normalize(X_train, X_val, test_data)"
   ]
  },
  {
   "cell_type": "code",
   "execution_count": 6,
   "id": "ce85747b",
   "metadata": {
    "execution": {
     "iopub.execute_input": "2025-02-12T20:21:30.522610Z",
     "iopub.status.busy": "2025-02-12T20:21:30.522400Z",
     "iopub.status.idle": "2025-02-12T20:21:35.411709Z",
     "shell.execute_reply": "2025-02-12T20:21:35.410662Z"
    },
    "papermill": {
     "duration": 4.894666,
     "end_time": "2025-02-12T20:21:35.413461",
     "exception": false,
     "start_time": "2025-02-12T20:21:30.518795",
     "status": "completed"
    },
    "tags": []
   },
   "outputs": [],
   "source": [
    "!pip install -qU oikan"
   ]
  },
  {
   "cell_type": "code",
   "execution_count": 7,
   "id": "a3c0823c",
   "metadata": {
    "execution": {
     "iopub.execute_input": "2025-02-12T20:21:35.420971Z",
     "iopub.status.busy": "2025-02-12T20:21:35.420651Z",
     "iopub.status.idle": "2025-02-12T20:21:40.429069Z",
     "shell.execute_reply": "2025-02-12T20:21:40.428229Z"
    },
    "papermill": {
     "duration": 5.013565,
     "end_time": "2025-02-12T20:21:40.430397",
     "exception": false,
     "start_time": "2025-02-12T20:21:35.416832",
     "status": "completed"
    },
    "tags": []
   },
   "outputs": [
    {
     "name": "stdout",
     "output_type": "stream",
     "text": [
      "Epoch 1/100, Loss: 0.7069923877716064\n",
      "Epoch 2/100, Loss: 0.6466118693351746\n",
      "Epoch 3/100, Loss: 0.6090026497840881\n",
      "Epoch 4/100, Loss: 0.5767247676849365\n",
      "Epoch 5/100, Loss: 0.5483376383781433\n",
      "Epoch 6/100, Loss: 0.5233283638954163\n",
      "Epoch 7/100, Loss: 0.5035041570663452\n",
      "Epoch 8/100, Loss: 0.4872019588947296\n",
      "Epoch 9/100, Loss: 0.47377222776412964\n",
      "Epoch 10/100, Loss: 0.46220073103904724\n",
      "Epoch 11/100, Loss: 0.4535139203071594\n",
      "Epoch 12/100, Loss: 0.4478621780872345\n",
      "Epoch 13/100, Loss: 0.4461752772331238\n",
      "Epoch 14/100, Loss: 0.4474969506263733\n",
      "Epoch 15/100, Loss: 0.4498952329158783\n",
      "Epoch 16/100, Loss: 0.4515303373336792\n",
      "Epoch 17/100, Loss: 0.451177716255188\n",
      "Epoch 18/100, Loss: 0.44911450147628784\n",
      "Epoch 19/100, Loss: 0.4457602798938751\n",
      "Epoch 20/100, Loss: 0.4422982931137085\n",
      "Epoch 21/100, Loss: 0.4392262101173401\n",
      "Epoch 22/100, Loss: 0.4369310140609741\n",
      "Epoch 23/100, Loss: 0.4357450604438782\n",
      "Epoch 24/100, Loss: 0.4352026581764221\n",
      "Epoch 25/100, Loss: 0.43483489751815796\n",
      "Epoch 26/100, Loss: 0.43451249599456787\n",
      "Epoch 27/100, Loss: 0.43402519822120667\n",
      "Epoch 28/100, Loss: 0.4334055781364441\n",
      "Epoch 29/100, Loss: 0.43259197473526\n",
      "Epoch 30/100, Loss: 0.4316346347332001\n",
      "Epoch 31/100, Loss: 0.4306456744670868\n",
      "Epoch 32/100, Loss: 0.4296738803386688\n",
      "Epoch 33/100, Loss: 0.42877835035324097\n",
      "Epoch 34/100, Loss: 0.42791327834129333\n",
      "Epoch 35/100, Loss: 0.4271309971809387\n",
      "Epoch 36/100, Loss: 0.42639121413230896\n",
      "Epoch 37/100, Loss: 0.42566484212875366\n",
      "Epoch 38/100, Loss: 0.42494136095046997\n",
      "Epoch 39/100, Loss: 0.4242043197154999\n",
      "Epoch 40/100, Loss: 0.4235022962093353\n",
      "Epoch 41/100, Loss: 0.42277804017066956\n",
      "Epoch 42/100, Loss: 0.422109454870224\n",
      "Epoch 43/100, Loss: 0.42139649391174316\n",
      "Epoch 44/100, Loss: 0.42059949040412903\n",
      "Epoch 45/100, Loss: 0.41974613070487976\n",
      "Epoch 46/100, Loss: 0.4188458323478699\n",
      "Epoch 47/100, Loss: 0.4179333448410034\n",
      "Epoch 48/100, Loss: 0.41701996326446533\n",
      "Epoch 49/100, Loss: 0.41622063517570496\n",
      "Epoch 50/100, Loss: 0.4154268205165863\n",
      "Epoch 51/100, Loss: 0.4146350026130676\n",
      "Epoch 52/100, Loss: 0.41373759508132935\n",
      "Epoch 53/100, Loss: 0.412722647190094\n",
      "Epoch 54/100, Loss: 0.4116072356700897\n",
      "Epoch 55/100, Loss: 0.41044938564300537\n",
      "Epoch 56/100, Loss: 0.4091690182685852\n",
      "Epoch 57/100, Loss: 0.407771497964859\n",
      "Epoch 58/100, Loss: 0.40623876452445984\n",
      "Epoch 59/100, Loss: 0.40463119745254517\n",
      "Epoch 60/100, Loss: 0.4030369818210602\n",
      "Epoch 61/100, Loss: 0.40159550309181213\n",
      "Epoch 62/100, Loss: 0.4003583788871765\n",
      "Epoch 63/100, Loss: 0.3997405767440796\n",
      "Epoch 64/100, Loss: 0.39845940470695496\n",
      "Epoch 65/100, Loss: 0.3962710499763489\n",
      "Epoch 66/100, Loss: 0.3944532871246338\n",
      "Epoch 67/100, Loss: 0.3936349153518677\n",
      "Epoch 68/100, Loss: 0.39291056990623474\n",
      "Epoch 69/100, Loss: 0.39118584990501404\n",
      "Epoch 70/100, Loss: 0.38960450887680054\n",
      "Epoch 71/100, Loss: 0.38900238275527954\n",
      "Epoch 72/100, Loss: 0.3882754147052765\n",
      "Epoch 73/100, Loss: 0.3869861364364624\n",
      "Epoch 74/100, Loss: 0.38557353615760803\n",
      "Epoch 75/100, Loss: 0.3848312795162201\n",
      "Epoch 76/100, Loss: 0.3843100965023041\n",
      "Epoch 77/100, Loss: 0.38364937901496887\n",
      "Epoch 78/100, Loss: 0.38255807757377625\n",
      "Epoch 79/100, Loss: 0.3814973831176758\n",
      "Epoch 80/100, Loss: 0.38078755140304565\n",
      "Epoch 81/100, Loss: 0.3803028464317322\n",
      "Epoch 82/100, Loss: 0.3799213767051697\n",
      "Epoch 83/100, Loss: 0.379480242729187\n",
      "Epoch 84/100, Loss: 0.37871745228767395\n",
      "Epoch 85/100, Loss: 0.3777545094490051\n",
      "Epoch 86/100, Loss: 0.37680357694625854\n",
      "Epoch 87/100, Loss: 0.3762843906879425\n",
      "Epoch 88/100, Loss: 0.3760560154914856\n",
      "Epoch 89/100, Loss: 0.3756135106086731\n",
      "Epoch 90/100, Loss: 0.3751761317253113\n",
      "Epoch 91/100, Loss: 0.3746320605278015\n",
      "Epoch 92/100, Loss: 0.3741346299648285\n",
      "Epoch 93/100, Loss: 0.3737243115901947\n",
      "Epoch 94/100, Loss: 0.3734779357910156\n",
      "Epoch 95/100, Loss: 0.37322619557380676\n",
      "Epoch 96/100, Loss: 0.37327632308006287\n",
      "Epoch 97/100, Loss: 0.37241530418395996\n",
      "Epoch 98/100, Loss: 0.37131255865097046\n",
      "Epoch 99/100, Loss: 0.3701612949371338\n",
      "Epoch 100/100, Loss: 0.36949703097343445\n"
     ]
    },
    {
     "data": {
      "image/png": "[encoded data removed]",
      "text/plain": [
       "<Figure size 640x480 with 1 Axes>"
      ]
     },
     "metadata": {},
     "output_type": "display_data"
    },
    {
     "name": "stdout",
     "output_type": "stream",
     "text": [
      "OIKAN Extracted Symbolic Formula: 0.698256194591522*x0 - 0.279470533132553*x1 + 0.340953201055527*x2 - 0.0991314202547073*x3 - 0.220621466636658*x4 + 0.442492097616196*x5 - 0.515061378479004*x6 + 0.112484\n"
     ]
    }
   ],
   "source": [
    "# OIKAN Model Training\n",
    "from oikan.model import OIKAN\n",
    "from oikan.trainer import train_classification\n",
    "from oikan.visualize import visualize_classification\n",
    "from oikan.symbolic import extract_symbolic_formula_classification\n",
    "\n",
    "oikan_model = OIKAN(input_dim=X_train.shape[1], output_dim=2)\n",
    "train_classification(oikan_model, (torch.tensor(X_train, dtype=torch.float32), torch.tensor(y_train, dtype=torch.long)), epochs=100, lr=0.01)\n",
    "visualize_classification(oikan_model, X_train, y_train)\n",
    "symbolic_formula = extract_symbolic_formula_classification(oikan_model, X_train)\n",
    "print(\"OIKAN Extracted Symbolic Formula:\", symbolic_formula)"
   ]
  },
  {
   "cell_type": "code",
   "execution_count": 8,
   "id": "56f41921",
   "metadata": {
    "execution": {
     "iopub.execute_input": "2025-02-12T20:21:40.438746Z",
     "iopub.status.busy": "2025-02-12T20:21:40.438404Z",
     "iopub.status.idle": "2025-02-12T20:21:43.998826Z",
     "shell.execute_reply": "2025-02-12T20:21:43.997695Z"
    },
    "papermill": {
     "duration": 3.566322,
     "end_time": "2025-02-12T20:21:44.000515",
     "exception": false,
     "start_time": "2025-02-12T20:21:40.434193",
     "status": "completed"
    },
    "tags": []
   },
   "outputs": [
    {
     "name": "stdout",
     "output_type": "stream",
     "text": [
      "\u001b[2K   \u001b[90m━━━━━━━━━━━━━━━━━━━━━━━━━━━━━━━━━━━━━━━━\u001b[0m \u001b[32m78.1/78.1 kB\u001b[0m \u001b[31m2.7 MB/s\u001b[0m eta \u001b[36m0:00:00\u001b[0m\r\n",
      "\u001b[?25h"
     ]
    }
   ],
   "source": [
    "!pip install -qU pykan"
   ]
  },
  {
   "cell_type": "code",
   "execution_count": 9,
   "id": "9d9ab9a3",
   "metadata": {
    "execution": {
     "iopub.execute_input": "2025-02-12T20:21:44.009354Z",
     "iopub.status.busy": "2025-02-12T20:21:44.009091Z",
     "iopub.status.idle": "2025-02-12T20:22:37.775816Z",
     "shell.execute_reply": "2025-02-12T20:22:37.774732Z"
    },
    "papermill": {
     "duration": 53.772928,
     "end_time": "2025-02-12T20:22:37.777535",
     "exception": false,
     "start_time": "2025-02-12T20:21:44.004607",
     "status": "completed"
    },
    "tags": []
   },
   "outputs": [
    {
     "name": "stdout",
     "output_type": "stream",
     "text": [
      "checkpoint directory created: ./model\n",
      "saving model version 0.0\n"
     ]
    },
    {
     "name": "stderr",
     "output_type": "stream",
     "text": [
      "| train_loss: 2.75e-01 | test_loss: 3.97e-01 | reg: 1.85e+01 | : 100%|█| 100/100 [00:42<00:00,  2.36\n"
     ]
    },
    {
     "name": "stdout",
     "output_type": "stream",
     "text": [
      "saving model version 0.1\n",
      "fixing (0,0,0) with x^2, r2=1.0000015497207642, c=2\n",
      "fixing (0,0,1) with x^2, r2=1.0000016689300537, c=2\n",
      "fixing (0,0,2) with x^2, r2=1.0000014305114746, c=2\n",
      "fixing (0,0,3) with x^2, r2=1.0000016689300537, c=2\n",
      "fixing (0,0,4) with x^2, r2=1.0000015497207642, c=2\n",
      "fixing (0,0,5) with x^2, r2=1.0000011920928955, c=2\n",
      "fixing (0,0,6) with x^2, r2=1.0000015497207642, c=2\n",
      "fixing (0,0,7) with x^2, r2=1.0000014305114746, c=2\n",
      "fixing (0,0,8) with x^2, r2=1.000001311302185, c=2\n",
      "fixing (0,0,9) with x^2, r2=1.000001311302185, c=2\n",
      "fixing (0,1,0) with x, r2=1.0000014305114746, c=1\n",
      "fixing (0,1,1) with exp, r2=1.0000016689300537, c=2\n",
      "fixing (0,1,2) with x, r2=1.0000015497207642, c=1\n",
      "fixing (0,1,3) with x, r2=1.0000016689300537, c=1\n",
      "fixing (0,1,4) with x, r2=1.0000016689300537, c=1\n",
      "fixing (0,1,5) with x, r2=1.0000014305114746, c=1\n",
      "fixing (0,1,6) with x, r2=0.9999944567680359, c=1\n",
      "fixing (0,1,7) with x, r2=0.9999938607215881, c=1\n",
      "fixing (0,1,8) with x, r2=1.0000015497207642, c=1\n",
      "fixing (0,1,9) with x, r2=0.9999971389770508, c=1\n",
      "fixing (0,2,0) with x, r2=0.16945891082286835, c=1\n",
      "fixing (0,2,1) with x, r2=0.9143096804618835, c=1\n",
      "fixing (0,2,2) with x, r2=0.21679778397083282, c=1\n",
      "fixing (0,2,3) with sin, r2=0.9941345453262329, c=2\n",
      "fixing (0,2,4) with x, r2=0.0017068289453163743, c=1\n",
      "fixing (0,2,5) with x, r2=0.057469505816698074, c=1\n",
      "fixing (0,2,6) with x, r2=0.0009839038830250502, c=1\n",
      "fixing (0,2,7) with x, r2=0.5872135758399963, c=1\n",
      "fixing (0,2,8) with x, r2=0.794596791267395, c=1\n",
      "fixing (0,2,9) with x, r2=0.0846964567899704, c=1\n",
      "fixing (0,3,0) with x, r2=0.9543368220329285, c=1\n",
      "fixing (0,3,1) with sin, r2=0.9999929666519165, c=2\n",
      "fixing (0,3,2) with sin, r2=0.9955766797065735, c=2\n",
      "fixing (0,3,3) with x, r2=0.9449790716171265, c=1\n",
      "fixing (0,3,4) with sin, r2=0.999900758266449, c=2\n",
      "fixing (0,3,5) with x, r2=0.6957153677940369, c=1\n",
      "fixing (0,3,6) with sin, r2=0.9987351894378662, c=2\n",
      "fixing (0,3,7) with sin, r2=0.9800828099250793, c=2\n",
      "fixing (0,3,8) with sin, r2=0.9903016686439514, c=2\n",
      "fixing (0,3,9) with abs, r2=0.9999471306800842, c=3\n",
      "fixing (0,4,0) with exp, r2=0.9998807311058044, c=2\n",
      "fixing (0,4,1) with sin, r2=0.9947287440299988, c=2\n",
      "fixing (0,4,2) with x^2, r2=0.9921829104423523, c=2\n",
      "fixing (0,4,3) with sin, r2=0.9979143142700195, c=2\n",
      "fixing (0,4,4) with sin, r2=0.9998446702957153, c=2\n",
      "fixing (0,4,5) with exp, r2=0.9801421165466309, c=2\n",
      "fixing (0,4,6) with x, r2=0.44016021490097046, c=1\n",
      "fixing (0,4,7) with sin, r2=0.9683050513267517, c=2\n",
      "fixing (0,4,8) with sin, r2=0.9722646474838257, c=2\n",
      "fixing (0,4,9) with sin, r2=0.9998635649681091, c=2\n",
      "fixing (0,5,0) with exp, r2=0.9779173731803894, c=2\n",
      "fixing (0,5,1) with sin, r2=0.995334804058075, c=2\n",
      "fixing (0,5,2) with x^2, r2=0.9992257356643677, c=2\n",
      "fixing (0,5,3) with x, r2=0.26090821623802185, c=1\n",
      "fixing (0,5,4) with sin, r2=0.9698898792266846, c=2\n",
      "fixing (0,5,5) with x, r2=0.3210486173629761, c=1\n",
      "fixing (0,5,6) with sin, r2=0.9984930753707886, c=2\n",
      "fixing (0,5,7) with x, r2=0.9239663481712341, c=1\n",
      "fixing (0,5,8) with x, r2=0.10592016577720642, c=1\n",
      "fixing (0,5,9) with sin, r2=0.9996490478515625, c=2\n",
      "fixing (0,6,0) with exp, r2=1.0000014305114746, c=2\n",
      "fixing (0,6,1) with x^2, r2=1.000001072883606, c=2\n",
      "fixing (0,6,2) with x^2, r2=1.0000007152557373, c=2\n",
      "fixing (0,6,3) with x^2, r2=1.0000015497207642, c=2\n",
      "fixing (0,6,4) with exp, r2=1.0000014305114746, c=2\n",
      "fixing (0,6,5) with x^2, r2=1.0000015497207642, c=2\n",
      "fixing (0,6,6) with x^2, r2=1.0000014305114746, c=2\n",
      "fixing (0,6,7) with exp, r2=1.000001311302185, c=2\n",
      "fixing (0,6,8) with x^2, r2=1.0000014305114746, c=2\n",
      "fixing (0,6,9) with x^2, r2=1.0000003576278687, c=2\n",
      "fixing (1,0,0) with x, r2=0.4025678038597107, c=1\n",
      "fixing (1,0,1) with exp, r2=0.9930588006973267, c=2\n",
      "fixing (1,0,2) with x, r2=0.04437059909105301, c=1\n",
      "fixing (1,0,3) with x, r2=0.27614712715148926, c=1\n",
      "fixing (1,0,4) with x, r2=0.773751437664032, c=1\n",
      "fixing (1,1,0) with x, r2=0.3144601285457611, c=1\n",
      "fixing (1,1,1) with x, r2=0.33493706583976746, c=1\n",
      "fixing (1,1,2) with x, r2=0.5217090845108032, c=1\n",
      "fixing (1,1,3) with x, r2=0.006212739273905754, c=1\n",
      "fixing (1,1,4) with x, r2=0.88917076587677, c=1\n",
      "fixing (1,2,0) with x, r2=0.6071609854698181, c=1\n",
      "fixing (1,2,1) with x, r2=0.11631488054990768, c=1\n",
      "fixing (1,2,2) with x, r2=0.004882470704615116, c=1\n",
      "fixing (1,2,3) with x, r2=0.006873201113194227, c=1\n",
      "fixing (1,2,4) with x, r2=0.016883010044693947, c=1\n",
      "fixing (1,3,0) with sin, r2=0.9999968409538269, c=2\n",
      "fixing (1,3,1) with x, r2=0.7011166214942932, c=1\n",
      "fixing (1,3,2) with x, r2=0.23455557227134705, c=1\n",
      "fixing (1,3,3) with x, r2=0.03136608749628067, c=1\n",
      "fixing (1,3,4) with x^2, r2=0.9998817443847656, c=2\n",
      "fixing (1,4,0) with sin, r2=0.9477272033691406, c=2\n",
      "fixing (1,4,1) with x, r2=0.4517393410205841, c=1\n",
      "fixing (1,4,2) with x, r2=0.741183340549469, c=1\n",
      "fixing (1,4,3) with x, r2=0.10400503873825073, c=1\n",
      "fixing (1,4,4) with sin, r2=0.9878095388412476, c=2\n",
      "fixing (1,5,0) with x, r2=0.6125174164772034, c=1\n",
      "fixing (1,5,1) with x, r2=0.00353156216442585, c=1\n",
      "fixing (1,5,2) with x, r2=0.01606457307934761, c=1\n",
      "fixing (1,5,3) with x, r2=0.03185370936989784, c=1\n",
      "fixing (1,5,4) with x, r2=0.015893803909420967, c=1\n",
      "fixing (1,6,0) with x, r2=0.09769099950790405, c=1\n",
      "fixing (1,6,1) with x, r2=0.0009884705068543553, c=1\n",
      "fixing (1,6,2) with x, r2=0.025011558085680008, c=1\n",
      "fixing (1,6,3) with x, r2=0.0051119569689035416, c=1\n",
      "fixing (1,6,4) with x, r2=0.6610700488090515, c=1\n",
      "fixing (1,7,0) with x, r2=0.10516735911369324, c=1\n",
      "fixing (1,7,1) with x, r2=0.009288046509027481, c=1\n",
      "fixing (1,7,2) with x, r2=0.0036434228532016277, c=1\n",
      "fixing (1,7,3) with x, r2=0.016677049919962883, c=1\n",
      "fixing (1,7,4) with x, r2=0.3375035226345062, c=1\n",
      "fixing (1,8,0) with x, r2=0.3761158585548401, c=1\n",
      "fixing (1,8,1) with x, r2=0.1792931705713272, c=1\n",
      "fixing (1,8,2) with x, r2=0.025380294770002365, c=1\n",
      "fixing (1,8,3) with x, r2=0.00036614216514863074, c=1\n",
      "fixing (1,8,4) with x, r2=0.05895702913403511, c=1\n",
      "fixing (1,9,0) with x, r2=0.8841814398765564, c=1\n",
      "fixing (1,9,1) with exp, r2=0.9939374327659607, c=2\n",
      "fixing (1,9,2) with x, r2=0.004714771173894405, c=1\n",
      "fixing (1,9,3) with x, r2=0.011302155442535877, c=1\n",
      "fixing (1,9,4) with x, r2=0.1502579301595688, c=1\n",
      "fixing (2,0,0) with x, r2=0.06915469467639923, c=1\n",
      "fixing (2,1,0) with x, r2=3.0168655484885676e-07, c=1\n",
      "fixing (2,2,0) with x, r2=8.767425185851607e-08, c=1\n",
      "fixing (2,3,0) with x, r2=1.7575040374140372e-06, c=1\n",
      "fixing (2,4,0) with x, r2=0.48976752161979675, c=1\n",
      "saving model version 0.2\n",
      "PyKAN Extracted Symbolic Formula: 0.0142*x_2 - 0.0502*x_3 + 0.0268*x_4 + 0.0113*x_5 + 0.0259*x_6 - 0.0026*(0.9776 - x_1)**2 + 0.0005*(1 - 0.3049*x_1)**2 - 0.0567*(1 - 0.2273*x_1)**2 + 0.0023*(1 - 0.3121*x_5)**2 - 0.0055*(1 - 0.1579*x_6)**2 - 0.0118*(-x_1 - 0.9151)**2 - 0.0547*(-x_1 - 0.7275)**2 + 0.0278*(-x_1 - 0.1686)**2 - 0.0026*(-0.8492*x_1 - 1)**2 + 0.0319*(-0.138*x_1 - 1)**2 + 0.0344*(-x_7 - 0.9533)**2 + 0.0008*(-x_7 - 0.8565)**2 - 0.0079*(-x_7 - 0.54)**2 + 0.0756*(-x_7 - 0.3574)**2 - 0.0007*(-x_7 - 0.126)**2 - 0.0138*(-0.59*x_7 - 1)**2 + 0.3114*(0.2459*x_2 - 0.005*x_4 + 0.0036*x_6 + 0.2753*(-0.9014*x_1 - 1)**2 + 0.0061*(-0.589*x_7 - 1)**2 - 0.0681*sin(0.9158*x_3 - 7.4042) + 0.0361*sin(9.4443*x_5 + 3.7525) - 1)**2 - 0.1563*exp(0.6125*x_7) - 0.0011*exp(1.9482*x_7) + 0.0001*exp(-0.012*x_2 + 0.0107*x_3 - 0.0089*x_4 - 0.0103*(-x_1 - 0.1686)**2 + 0.0577*exp(0.6125*x_7) + 0.0092*exp(-3.5398*x_6) - 0.0226*exp(-1.0806*x_5)) - 0.0256*sin(1.7966*x_4 + 3.1994) + 0.0312*sin(3.7982*x_4 - 1.5955) - 0.0007*sin(5.825*x_4 - 4.8237) + 0.1149*sin(6.6365*x_4 + 1.3756) - 0.485*sin(6.8795*x_4 + 1.4126) + 0.0025*sin(0.789*x_5 - 6.575) + 0.0269*sin(9.2053*x_5 + 4.0083) - 0.1214*sin(9.382*x_5 + 0.6042) + 0.041*sin(9.6256*x_5 + 8.9658) - 0.4111*sin(0.373*x_6 + 0.2661) - 0.0112*sin(0.4498*x_6 - 1.029) - 0.1183*sin(0.592*x_6 - 1.3713) - 0.0062*sin(-0.5952*x_2 + 0.0079*x_3 + 0.7767*(-x_1 - 0.6933)**2 + 0.1761*exp(1.3702*x_7) + 0.9369*sin(0.5978*x_4 - 7.2039) + 1.3*sin(9.6108*x_5 - 9.8201) + 0.1397*sin(1.2076*x_6 + 5.7964) + 5.2822) - 0.2601*sin(-0.5936*x_2 + 0.0078*x_3 + 0.7747*(-x_1 - 0.6933)**2 + 0.1757*exp(1.3702*x_7) + 0.9345*sin(0.5978*x_4 - 7.2039) + 1.2967*sin(9.6108*x_5 - 9.8201) + 0.1393*sin(1.2076*x_6 + 5.7964) - 2.5123) - 0.1073*sin(0.2218*x_2 - 0.0045*x_4 + 0.0032*x_6 + 0.2483*(-0.9014*x_1 - 1)**2 + 0.0055*(-0.589*x_7 - 1)**2 - 0.0614*sin(0.9158*x_3 - 7.4042) + 0.0325*sin(9.4443*x_5 + 3.7525) + 0.7226) + 0.0002*Abs(9.267*x_4 + 1.2068) + 0.3291 - 0.025*exp(-3.5398*x_6) - 0.e-4*exp(-9.9736*x_5) + 0.0611*exp(-1.0806*x_5)\n"
     ]
    }
   ],
   "source": [
    "# PyKAN Model Training\n",
    "\n",
    "from kan import *\n",
    "\n",
    "device = torch.device('cuda' if torch.cuda.is_available() else 'cpu')\n",
    "model_kan = KAN(width=[X_train.shape[1], 10, 5, 1], grid=3, k=3, seed=42, device=device)\n",
    "model_kan.fit({'train_input': torch.tensor(X_train, dtype=torch.float32, device=device),\n",
    "               'train_label': torch.tensor(y_train, dtype=torch.float32, device=device).view(-1, 1),\n",
    "               'test_input': torch.tensor(X_val, dtype=torch.float32, device=device),\n",
    "               'test_label': torch.tensor(y_val, dtype=torch.float32, device=device).view(-1, 1)},\n",
    "              opt=\"LBFGS\", steps=100, lamb=0.001)\n",
    "lib = ['x','x^2','x^3','x^4','exp','log','sqrt','tanh','sin','abs']\n",
    "model_kan.auto_symbolic(lib = lib)\n",
    "from kan.utils import ex_round\n",
    "final_formula = ex_round(model_kan.symbolic_formula()[0][0], 4)\n",
    "print(\"PyKAN Extracted Symbolic Formula:\", final_formula)"
   ]
  },
  {
   "cell_type": "code",
   "execution_count": 10,
   "id": "0c2e0b2f",
   "metadata": {
    "execution": {
     "iopub.execute_input": "2025-02-12T20:22:37.806268Z",
     "iopub.status.busy": "2025-02-12T20:22:37.806018Z",
     "iopub.status.idle": "2025-02-12T20:22:55.581152Z",
     "shell.execute_reply": "2025-02-12T20:22:55.580185Z"
    },
    "papermill": {
     "duration": 17.791389,
     "end_time": "2025-02-12T20:22:55.583178",
     "exception": false,
     "start_time": "2025-02-12T20:22:37.791789",
     "status": "completed"
    },
    "tags": []
   },
   "outputs": [
    {
     "data": {
      "image/png": "[encoded data removed]",
      "text/plain": [
       "<Figure size 500x600 with 142 Axes>"
      ]
     },
     "metadata": {},
     "output_type": "display_data"
    }
   ],
   "source": [
    "# Visualize KAN\n",
    "model_kan.plot(beta=100)"
   ]
  },
  {
   "cell_type": "code",
   "execution_count": 11,
   "id": "70537b2f",
   "metadata": {
    "execution": {
     "iopub.execute_input": "2025-02-12T20:22:55.616350Z",
     "iopub.status.busy": "2025-02-12T20:22:55.616101Z",
     "iopub.status.idle": "2025-02-12T20:22:55.761046Z",
     "shell.execute_reply": "2025-02-12T20:22:55.760172Z"
    },
    "papermill": {
     "duration": 0.162789,
     "end_time": "2025-02-12T20:22:55.762285",
     "exception": false,
     "start_time": "2025-02-12T20:22:55.599496",
     "status": "completed"
    },
    "tags": []
   },
   "outputs": [
    {
     "name": "stdout",
     "output_type": "stream",
     "text": [
      "MLP Training Complete\n"
     ]
    }
   ],
   "source": [
    "# MLP Model Training\n",
    "class MLPClassifier(nn.Module):\n",
    "    def __init__(self, input_dim, hidden_dim, output_dim):\n",
    "        super(MLPClassifier, self).__init__()\n",
    "        self.fc1 = nn.Linear(input_dim, hidden_dim)\n",
    "        self.relu = nn.ReLU()\n",
    "        self.fc2 = nn.Linear(hidden_dim, output_dim)\n",
    "        self.softmax = nn.Softmax(dim=1)\n",
    "    \n",
    "    def forward(self, x):\n",
    "        x = self.fc1(x)\n",
    "        x = self.relu(x)\n",
    "        x = self.fc2(x)\n",
    "        return self.softmax(x)\n",
    "\n",
    "mlp_model = MLPClassifier(input_dim=X_train.shape[1], hidden_dim=10, output_dim=2)\n",
    "criterion = nn.CrossEntropyLoss()\n",
    "optimizer = optim.Adam(mlp_model.parameters(), lr=0.01)\n",
    "\n",
    "def train_mlp(model, X_train, y_train, epochs=100):\n",
    "    for epoch in range(epochs):\n",
    "        optimizer.zero_grad()\n",
    "        outputs = model(torch.tensor(X_train, dtype=torch.float32))\n",
    "        loss = criterion(outputs, torch.tensor(y_train, dtype=torch.long))\n",
    "        loss.backward()\n",
    "        optimizer.step()\n",
    "    print(\"MLP Training Complete\")\n",
    "\n",
    "train_mlp(mlp_model, X_train, y_train, epochs=100)"
   ]
  },
  {
   "cell_type": "code",
   "execution_count": 12,
   "id": "1517eb42",
   "metadata": {
    "execution": {
     "iopub.execute_input": "2025-02-12T20:22:55.794364Z",
     "iopub.status.busy": "2025-02-12T20:22:55.794083Z",
     "iopub.status.idle": "2025-02-12T20:22:55.833273Z",
     "shell.execute_reply": "2025-02-12T20:22:55.832507Z"
    },
    "papermill": {
     "duration": 0.056504,
     "end_time": "2025-02-12T20:22:55.834570",
     "exception": false,
     "start_time": "2025-02-12T20:22:55.778066",
     "status": "completed"
    },
    "tags": []
   },
   "outputs": [
    {
     "name": "stdout",
     "output_type": "stream",
     "text": [
      "OIKAN Accuracy: 0.8101\n",
      "MLP Accuracy: 0.8156\n",
      "PyKAN Accuracy: 0.7989\n"
     ]
    }
   ],
   "source": [
    "# Model Comparison\n",
    "from sklearn.metrics import accuracy_score\n",
    "\n",
    "# Model Evaluation\n",
    "def evaluate_model(model, X, y):\n",
    "    with torch.no_grad():\n",
    "        predictions = model(torch.tensor(X, dtype=torch.float32))\n",
    "        predicted_labels = torch.argmax(predictions, axis=1).numpy()\n",
    "    return accuracy_score(y, predicted_labels)\n",
    "\n",
    "def evaluate_pykan(model, X_val, y_val):\n",
    "    with torch.no_grad():\n",
    "        pykan_preds = model(torch.tensor(X_val, dtype=torch.float32, device=device)).cpu().numpy()\n",
    "        pykan_preds = (pykan_preds > 0.5).astype(int).flatten()\n",
    "    return accuracy_score(y_val, pykan_preds)\n",
    "\n",
    "oikan_acc = evaluate_model(oikan_model, X_val, y_val)\n",
    "mlp_acc = evaluate_model(mlp_model, X_val, y_val)\n",
    "pykan_acc = evaluate_pykan(model_kan, X_val, y_val)\n",
    "\n",
    "print(f\"OIKAN Accuracy: {oikan_acc:.4f}\")\n",
    "print(f\"MLP Accuracy: {mlp_acc:.4f}\")\n",
    "print(f\"PyKAN Accuracy: {pykan_acc:.4f}\")"
   ]
  },
  {
   "cell_type": "code",
   "execution_count": 13,
   "id": "ba63acfd",
   "metadata": {
    "execution": {
     "iopub.execute_input": "2025-02-12T20:22:55.868176Z",
     "iopub.status.busy": "2025-02-12T20:22:55.867931Z",
     "iopub.status.idle": "2025-02-12T20:22:56.018573Z",
     "shell.execute_reply": "2025-02-12T20:22:56.017803Z"
    },
    "papermill": {
     "duration": 0.169083,
     "end_time": "2025-02-12T20:22:56.020032",
     "exception": false,
     "start_time": "2025-02-12T20:22:55.850949",
     "status": "completed"
    },
    "tags": []
   },
   "outputs": [
    {
     "data": {
      "image/png": "[encoded data removed]",
      "text/plain": [
       "<Figure size 640x480 with 1 Axes>"
      ]
     },
     "metadata": {},
     "output_type": "display_data"
    }
   ],
   "source": [
    "# Visualization\n",
    "plt.bar(['OIKAN', 'MLP', 'PyKAN'], [oikan_acc, mlp_acc, pykan_acc], color=['blue', 'green', 'red'])\n",
    "plt.ylabel('Accuracy')\n",
    "plt.title('Model Comparison on Titanic Dataset')\n",
    "plt.show()"
   ]
  },
  {
   "cell_type": "code",
   "execution_count": 14,
   "id": "35cdc30e",
   "metadata": {
    "execution": {
     "iopub.execute_input": "2025-02-12T20:22:56.052282Z",
     "iopub.status.busy": "2025-02-12T20:22:56.052045Z",
     "iopub.status.idle": "2025-02-12T20:22:56.057746Z",
     "shell.execute_reply": "2025-02-12T20:22:56.057126Z"
    },
    "papermill": {
     "duration": 0.022883,
     "end_time": "2025-02-12T20:22:56.058862",
     "exception": false,
     "start_time": "2025-02-12T20:22:56.035979",
     "status": "completed"
    },
    "tags": []
   },
   "outputs": [],
   "source": [
    "# Predictions\n",
    "test_preds = oikan_model(torch.tensor(test_data, dtype=torch.float32))\n",
    "test_preds = torch.argmax(test_preds, axis=1).numpy()\n",
    "\n",
    "submission = pd.DataFrame({'PassengerId': submit['PassengerId'], 'Survived': test_preds})"
   ]
  },
  {
   "cell_type": "code",
   "execution_count": 15,
   "id": "034d460f",
   "metadata": {
    "execution": {
     "iopub.execute_input": "2025-02-12T20:22:56.091259Z",
     "iopub.status.busy": "2025-02-12T20:22:56.091041Z",
     "iopub.status.idle": "2025-02-12T20:22:56.101780Z",
     "shell.execute_reply": "2025-02-12T20:22:56.101138Z"
    },
    "papermill": {
     "duration": 0.02851,
     "end_time": "2025-02-12T20:22:56.103059",
     "exception": false,
     "start_time": "2025-02-12T20:22:56.074549",
     "status": "completed"
    },
    "tags": []
   },
   "outputs": [],
   "source": [
    "# Submission\n",
    "submission.to_csv('oikan_submission.csv', index=False)"
   ]
  },
  {
   "cell_type": "code",
   "execution_count": null,
   "id": "74d536ab",
   "metadata": {
    "papermill": {
     "duration": 0.017194,
     "end_time": "2025-02-12T20:22:56.137915",
     "exception": false,
     "start_time": "2025-02-12T20:22:56.120721",
     "status": "completed"
    },
    "tags": []
   },
   "outputs": [],
   "source": []
  }
 ],
 "metadata": {
  "kaggle": {
   "accelerator": "nvidiaTeslaT4",
   "dataSources": [
    {
     "databundleVersionId": 26502,
     "sourceId": 3136,
     "sourceType": "competition"
    }
   ],
   "dockerImageVersionId": 30839,
   "isGpuEnabled": true,
   "isInternetEnabled": true,
   "language": "python",
   "sourceType": "notebook"
  },
  "kernelspec": {
   "display_name": "Python 3",
   "language": "python",
   "name": "python3"
  },
  "language_info": {
   "codemirror_mode": {
    "name": "ipython",
    "version": 3
   },
   "file_extension": ".py",
   "mimetype": "text/x-python",
   "name": "python",
   "nbconvert_exporter": "python",
   "pygments_lexer": "ipython3",
   "version": "3.10.12"
  },
  "papermill": {
   "default_parameters": {},
   "duration": 97.916442,
   "end_time": "2025-02-12T20:22:58.996682",
   "environment_variables": {},
   "exception": null,
   "input_path": "__notebook__.ipynb",
   "output_path": "__notebook__.ipynb",
   "parameters": {},
   "start_time": "2025-02-12T20:21:21.080240",
   "version": "2.6.0"
  }
 },
 "nbformat": 4,
 "nbformat_minor": 5
}
